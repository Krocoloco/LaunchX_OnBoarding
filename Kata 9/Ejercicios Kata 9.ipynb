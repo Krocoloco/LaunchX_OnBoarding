{
 "cells": [
  {
   "cell_type": "markdown",
   "metadata": {},
   "source": [
    "##  Kata 9 - Ejercicio 1"
   ]
  },
  {
   "cell_type": "code",
   "execution_count": 5,
   "metadata": {},
   "outputs": [],
   "source": [
    "# Función para leer 3 tanques de combustible y muestre el promedio\n",
    "def informe_conbustible(tanque1,tanque2,tanque3):\n",
    "    promedio_combustible = (tanque1 + tanque2 + tanque3) / 3\n",
    "    return f\"\"\"El promedio de combustible es de\" {promedio_combustible}%\"\"\""
   ]
  },
  {
   "cell_type": "code",
   "execution_count": 6,
   "metadata": {},
   "outputs": [
    {
     "data": {
      "text/plain": [
       "'El promedio de combustible es de\" 11.666666666666666%'"
      ]
     },
     "execution_count": 6,
     "metadata": {},
     "output_type": "execute_result"
    }
   ],
   "source": [
    "# Llamamos a la función que genera el reporte print(funcion(tanque1, tanque2, tanque3))\n",
    "informe_conbustible(20,10,5)\n"
   ]
  },
  {
   "cell_type": "code",
   "execution_count": 2,
   "metadata": {},
   "outputs": [
    {
     "data": {
      "text/plain": [
       "28.333333333333332"
      ]
     },
     "execution_count": 2,
     "metadata": {},
     "output_type": "execute_result"
    }
   ],
   "source": [
    "# Función promedio \n",
    "def promedio(*args):\n",
    "    promedio = sum(args) / len(args)\n",
    "    return promedio\n",
    "\n",
    "promedio(15,30,40)"
   ]
  },
  {
   "cell_type": "code",
   "execution_count": 5,
   "metadata": {},
   "outputs": [
    {
     "data": {
      "text/plain": [
       "'El promedio de combustible es de\" 11.666666666666666%'"
      ]
     },
     "execution_count": 5,
     "metadata": {},
     "output_type": "execute_result"
    }
   ],
   "source": [
    "# Actualiza la función\n",
    "def informe_combustible(tanque1,tanque2,tanque3):\n",
    "    estatus_combustible = promedio(tanque1,tanque2,tanque3)\n",
    "    return f\"\"\"El promedio de combustible es de\" {estatus_combustible}%\"\"\"\n",
    "\n",
    "informe_combustible(20,10,5)"
   ]
  },
  {
   "cell_type": "markdown",
   "metadata": {},
   "source": [
    "## Ejercicio 2"
   ]
  },
  {
   "cell_type": "code",
   "execution_count": 6,
   "metadata": {},
   "outputs": [
    {
     "data": {
      "text/plain": [
       "'\" Llegada a Marte:  Monday 12:34\\n    Hora de salida: 2022-02-18 12:34:43.381898\\n    Verificación de combustibles:\\n    ...\\n    Tanque externo al: 80%\\n    Tanque interno al: 100%\\n    '"
      ]
     },
     "execution_count": 6,
     "metadata": {},
     "output_type": "execute_result"
    }
   ],
   "source": [
    "# Función con un informe preciso de la misión. Considera hora de prelanzamiento, tiempo de vuelo, destino, tanque externo y tanque interno\n",
    "from datetime import timedelta, datetime\n",
    "\n",
    "def informe_general(tiempo_destino,destino,tanque_ext,tanque_int):\n",
    "    hora_lanzamiento = datetime.now()\n",
    "    llegada = hora_lanzamiento + timedelta(tiempo_destino)\n",
    "    info_llegada = llegada.strftime(f'Llegada a {destino}:  %A %H:%M')\n",
    "    return f\"\"\"\" {info_llegada}\n",
    "    Hora de salida: {hora_lanzamiento}\n",
    "    Verificación de combustibles:\n",
    "    ...\n",
    "    Tanque externo al: {tanque_ext}%\n",
    "    Tanque interno al: {tanque_int}%\n",
    "    \"\"\"\n",
    "informe_general(94,'Marte',80,100)\n"
   ]
  },
  {
   "cell_type": "code",
   "execution_count": 12,
   "metadata": {},
   "outputs": [
    {
     "data": {
      "text/plain": [
       "'\" Llegada a Marte:  Saturday 12:50\\n    Hora de salida: 2022-02-18 12:50:46.320045\\n    Verificación de combustibles:\\n    ...\\n    Combustible total: 180\\n    '"
      ]
     },
     "execution_count": 12,
     "metadata": {},
     "output_type": "execute_result"
    }
   ],
   "source": [
    "# Escribe tu nueva función de reporte considerando lo anterior\n",
    "\n",
    "from datetime import timedelta, datetime\n",
    "\n",
    "def informe_general(destino,*tiempos,**tanques):\n",
    "    hora_lanzamiento = datetime.now()\n",
    "    llegada = hora_lanzamiento + timedelta(sum(tiempos))\n",
    "    info_llegada = llegada.strftime(f'Llegada a {destino}:  %A %H:%M')\n",
    "    total_combustible = sum(tanques.values())\n",
    "    return f\"\"\"\" {info_llegada}\n",
    "    Hora de salida: {hora_lanzamiento}\n",
    "    Verificación de combustibles:\n",
    "    ...\n",
    "    Combustible total: {total_combustible}\n",
    "    \"\"\"\n",
    "informe_general('Marte',94,22,46,tanque1 = 80 ,tanque2 =100)"
   ]
  },
  {
   "cell_type": "code",
   "execution_count": 17,
   "metadata": {},
   "outputs": [
    {
     "data": {
      "text/plain": [
       "'\" Llegada a Marte:  Saturday 13:00\\n    Hora de salida: 2022-02-18 13:00:21.947249\\n    Verificación de combustibles:\\n    ...\\n    Combustible total: 180\\n    El tanque: tanque1 contiene: 80 de combustible \\nEl tanque: tanque2 contiene: 100 de combustible \\n\\n    '"
      ]
     },
     "execution_count": 17,
     "metadata": {},
     "output_type": "execute_result"
    }
   ],
   "source": [
    "# Escribe tu nueva función\n",
    "from datetime import timedelta, datetime\n",
    "\n",
    "def informe_general(destino,*tiempos,**tanques):\n",
    "    hora_lanzamiento = datetime.now()\n",
    "    llegada = hora_lanzamiento + timedelta(sum(tiempos))\n",
    "    info_llegada = llegada.strftime(f'Llegada a {destino}:  %A %H:%M')\n",
    "    \n",
    "    reporte_combustible = ''\n",
    "    for tanque, cantidad in tanques.items():\n",
    "        reporte_combustible += f\"El tanque: {tanque} contiene: {cantidad} de combustible \\n\"\n",
    "\n",
    "    total_combustible = sum(tanques.values())\n",
    "\n",
    "    return f\"\"\"\" {info_llegada}\n",
    "    Hora de salida: {hora_lanzamiento}\n",
    "    Verificación de combustibles:\n",
    "    ...\n",
    "    Combustible total: {total_combustible}\n",
    "    {reporte_combustible}\n",
    "    \"\"\"\n",
    "    \n",
    "\n",
    "informe_general('Marte',94,22,46,tanque1 = 80 ,tanque2 =100)"
   ]
  }
 ],
 "metadata": {
  "interpreter": {
   "hash": "c61754229d8fde6199e8c6f92514c83a0c64a956d18dc2680855eb33cb4bc281"
  },
  "kernelspec": {
   "display_name": "Python 3.10.2 64-bit (windows store)",
   "language": "python",
   "name": "python3"
  },
  "language_info": {
   "codemirror_mode": {
    "name": "ipython",
    "version": 3
   },
   "file_extension": ".py",
   "mimetype": "text/x-python",
   "name": "python",
   "nbconvert_exporter": "python",
   "pygments_lexer": "ipython3",
   "version": "3.8.5"
  },
  "orig_nbformat": 4
 },
 "nbformat": 4,
 "nbformat_minor": 2
}
