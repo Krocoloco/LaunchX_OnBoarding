{
 "cells": [
  {
   "cell_type": "markdown",
   "metadata": {},
   "source": [
    "## Ejercicio Kata 3"
   ]
  },
  {
   "cell_type": "code",
   "execution_count": 5,
   "metadata": {},
   "outputs": [
    {
     "name": "stdout",
     "output_type": "stream",
     "text": [
      "¡Advertencia un asteroide se acerca a la Tierra!\n"
     ]
    }
   ],
   "source": [
    "# Añadir el código necesario para crear una variable que guarde la velocidad del asteroide.\n",
    "# Escribe una expresión de prueba para calcular si necesita una advertencia.\n",
    "# Agregue las instrucciones que se ejecutarán si la expresión de prueba es true o false.\n",
    "\n",
    "velocidad = 49\n",
    "\n",
    "if velocidad > 25:\n",
    "    print(\"¡Advertencia un asteroide se acerca a la Tierra!\")\n",
    "else:\n",
    "    print(\"Aquí no hay nada que ver\")"
   ]
  },
  {
   "cell_type": "code",
   "execution_count": 10,
   "metadata": {},
   "outputs": [
    {
     "name": "stdout",
     "output_type": "stream",
     "text": [
      "Hay un asteroide cerca\n"
     ]
    }
   ],
   "source": [
    "# Agrega el código para crear una variable para un asteroide que viaja a 19 km/s\n",
    "# Escribe varias expresiones de prueba para determinar si puedes ver el rayo de luz desde la tierra\n",
    "# Agrega las instrucciones que se ejecutarán si las expresiones de prueba son True o False\n",
    "\n",
    "velocidad = 19\n",
    "\n",
    "if velocidad > 20:\n",
    "    print(\"Un asteroide esta cerca, y puede emitir un rayo de luz\")\n",
    "elif velocidad == 20:\n",
    "    print(\"¡Hay un rayo de luz en el cielo!\")\n",
    "else:\n",
    "    print(\"Solo hay estrellas\")"
   ]
  },
  {
   "cell_type": "code",
   "execution_count": 29,
   "metadata": {},
   "outputs": [
    {
     "name": "stdout",
     "output_type": "stream",
     "text": [
      "Solo hay estrellas\n"
     ]
    }
   ],
   "source": [
    "# Agrega el código para crear nuevas variables para la velocidad y el tamaño del asteroide\n",
    "# Para probar el código, prueba con varias velocidades y tamaños\n",
    "# Escribe varias expresiones de prueba o combinaciones de expresiones de prueba para determinar qué mensaje se debe enviar a Tierra.\n",
    "\n",
    "velocidad = 19\n",
    "tamaño = 25\n",
    "\n",
    "if tamaño > 25 and velocidad > 25:\n",
    "    print(\"¡Advertencia un asteroide se acerca a la Tierra y estamos perdidos! causará un gran daño\")\n",
    "elif velocidad > 20:\n",
    "    print(\"Un asteroide esta cerca, y puede emitir un rayo de luz\")\n",
    "elif velocidad == 20:\n",
    "    print(\"¡Hay un rayo de luz en el cielo!\")\n",
    "elif tamaño < 25:\n",
    "    print(\"No hay peligro el asteroide se destruirá\")\n",
    "else:\n",
    "    print(\"Solo hay estrellas\")\n",
    "    \n",
    "\n"
   ]
  }
 ],
 "metadata": {
  "interpreter": {
   "hash": "c61754229d8fde6199e8c6f92514c83a0c64a956d18dc2680855eb33cb4bc281"
  },
  "kernelspec": {
   "display_name": "Python 3.10.2 64-bit (windows store)",
   "language": "python",
   "name": "python3"
  },
  "language_info": {
   "codemirror_mode": {
    "name": "ipython",
    "version": 3
   },
   "file_extension": ".py",
   "mimetype": "text/x-python",
   "name": "python",
   "nbconvert_exporter": "python",
   "pygments_lexer": "ipython3",
   "version": "3.8.5"
  },
  "orig_nbformat": 4
 },
 "nbformat": 4,
 "nbformat_minor": 2
}
